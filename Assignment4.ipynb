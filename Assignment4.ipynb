{
 "cells": [
  {
   "cell_type": "markdown",
   "id": "241b7d84-7114-4a10-a208-c8eed272a13c",
   "metadata": {},
   "source": [
    "# 1) Area of a Rectangle:\n",
    "# Write a Python program to calculate the area of a rectangle. Use the formula:\n",
    "\n",
    "# Area = length × width\n",
    "\n",
    "# Take length and width as inputs from the user."
   ]
  },
  {
   "cell_type": "code",
   "execution_count": 12,
   "id": "8826b1be-892e-45fd-ac05-91a10dc63297",
   "metadata": {},
   "outputs": [
    {
     "name": "stdin",
     "output_type": "stream",
     "text": [
      "enter the lenght 30\n",
      "énter the width 50\n"
     ]
    },
    {
     "name": "stdout",
     "output_type": "stream",
     "text": [
      "Area is 1500\n"
     ]
    }
   ],
   "source": [
    "lenth = int(input('enter the lenght'))\n",
    "width = int(input('énter the width'))\n",
    "Area = lenth*width\n",
    "print( f'Area is {Area}')"
   ]
  },
  {
   "cell_type": "markdown",
   "id": "1b9ba3c6-bbf6-4965-9e3b-cc3afa4f9962",
   "metadata": {},
   "source": [
    "# Circumference of a Circle:\n",
    "# Write a Python program to calculate the circumference of a circle. Use the formula:\n",
    "\n",
    "# Circumference = 2πr\n",
    "\n",
    "# Take the radius r as input from the user."
   ]
  },
  {
   "cell_type": "code",
   "execution_count": 15,
   "id": "73ee42de-3364-4339-9fb9-e61cd702986c",
   "metadata": {},
   "outputs": [
    {
     "name": "stdin",
     "output_type": "stream",
     "text": [
      "enter the radius 5\n"
     ]
    },
    {
     "name": "stdout",
     "output_type": "stream",
     "text": [
      "circumference = 31.41592653589793\n"
     ]
    }
   ],
   "source": [
    "import math\n",
    "radius = float(input('enter the radius'))\n",
    "circumference = 2*math.pi*radius\n",
    "print(f'circumference = {circumference}')"
   ]
  },
  {
   "cell_type": "markdown",
   "id": "4e17ab8b-7b89-4230-bf4d-73228713d3e4",
   "metadata": {},
   "source": [
    "# Simple Interest:\n",
    "# Write a Python program to calculate the simple interest. Use the formula:\n",
    "# Simple Interest = Principal × Rate × Time\n",
    "\n",
    "# Take Principal, Rate, and Time as inputs from the user."
   ]
  },
  {
   "cell_type": "code",
   "execution_count": 27,
   "id": "3cd7731b-0907-4f60-bd39-89bc36314e71",
   "metadata": {},
   "outputs": [
    {
     "name": "stdin",
     "output_type": "stream",
     "text": [
      "enter the principal: 500000\n",
      "enter the rate (rate in percentage): 15\n",
      "enter the time (time in years): 2\n"
     ]
    },
    {
     "name": "stdout",
     "output_type": "stream",
     "text": [
      "your simple interest rate is 150000.0\n"
     ]
    }
   ],
   "source": [
    "principal = float(input('enter the principal:'))\n",
    "rate = float(input('enter the rate (rate in percentage):'))\n",
    "time = float(input('enter the time (time in years):'))\n",
    "simple_interest = (principal*rate*time)/100\n",
    "print(f'your simple interest rate is {simple_interest}')"
   ]
  },
  {
   "cell_type": "markdown",
   "id": "b0dc87ca-d094-41c5-b2a4-2843a5293812",
   "metadata": {},
   "source": [
    "# Speed of an Object:\n",
    "# Write a Python program to calculate the speed of an object. Use the formula:\n",
    "# Speed = Distance / Time\n",
    "\n",
    "# Take Distance and Time as inputs from the user."
   ]
  },
  {
   "cell_type": "code",
   "execution_count": 36,
   "id": "11840bfa-733c-4169-8ece-e7420f5dbd54",
   "metadata": {},
   "outputs": [
    {
     "name": "stdin",
     "output_type": "stream",
     "text": [
      "Enter the current time 2\n",
      "Enter the distance 100\n"
     ]
    },
    {
     "name": "stdout",
     "output_type": "stream",
     "text": [
      "your speed is 50.0\n"
     ]
    }
   ],
   "source": [
    "time = int(input(\"Enter the current time\"))\n",
    "distance = float(input(\"Enter the distance\"))\n",
    "speed = distance / time\n",
    "print(f\"your speed is {speed}\")\n",
    "\n",
    "           \n"
   ]
  },
  {
   "cell_type": "markdown",
   "id": "7ade3912-9f87-43db-9866-dae5742ca0ba",
   "metadata": {},
   "source": [
    "# 5) BMI Calculator:\n",
    "# Write a Python program to calculate the Body Mass Index (BMI). Use the formula:\n",
    "\n",
    "# BMI = weight(kg):\n",
    "  #    hight.2\n",
    "\n",
    "# Take Weight (in kilograms) and Height (in meters) as inputs from the user."
   ]
  },
  {
   "cell_type": "code",
   "execution_count": 43,
   "id": "d9c79074-4c1d-4414-90f8-3798d116cdc5",
   "metadata": {},
   "outputs": [
    {
     "name": "stdin",
     "output_type": "stream",
     "text": [
      "Enter your weight 65\n",
      "Enter your height 1.74\n"
     ]
    },
    {
     "name": "stdout",
     "output_type": "stream",
     "text": [
      "your BMI is 21.469150482230148\n"
     ]
    }
   ],
   "source": [
    "weight = float(input(\"Enter your weight\"))\n",
    "height = float(input(\"Enter your height\"))\n",
    "meter = weight / height **2\n",
    "print(f\"your BMI is {meter}\")"
   ]
  },
  {
   "cell_type": "markdown",
   "id": "3ec79df7-4b0f-4151-b90e-4918b8fe66fa",
   "metadata": {},
   "source": [
    "# 1. Write a program that prompts the user to input a number and display if the number\n",
    "# is even or odd."
   ]
  },
  {
   "cell_type": "code",
   "execution_count": 6,
   "id": "e91ced5b-dae6-41b3-a6ea-14f7c28c8bb1",
   "metadata": {},
   "outputs": [
    {
     "name": "stdin",
     "output_type": "stream",
     "text": [
      "enter the number and i check its even or odd 3\n"
     ]
    },
    {
     "name": "stdout",
     "output_type": "stream",
     "text": [
      "its a odd number\n"
     ]
    }
   ],
   "source": [
    "n = int(input('enter the number and i check its even or odd'))\n",
    "if n%2 == 0:\n",
    "    print('its a even number')\n",
    "else:\n",
    "    print('its a odd number')"
   ]
  },
  {
   "cell_type": "markdown",
   "id": "2a481cdc-9ca8-4597-bd2d-ad90529487e9",
   "metadata": {},
   "source": [
    "# 2. Write a Python program that takes an age as input and determines whether a person\n",
    "# is eligible to vote. If the age is 18 or above, print \"You are eligible to vote.\" Otherwise,\n",
    "# print \"You are not eligible to vote yet.\"."
   ]
  },
  {
   "cell_type": "code",
   "execution_count": 9,
   "id": "3290e2fe-224f-4a99-841c-1a6ac3527496",
   "metadata": {},
   "outputs": [
    {
     "name": "stdin",
     "output_type": "stream",
     "text": [
      "enter your age 18\n"
     ]
    },
    {
     "name": "stdout",
     "output_type": "stream",
     "text": [
      "you are eligible to vote\n"
     ]
    }
   ],
   "source": [
    "age = int(input('enter your age'))\n",
    "if age>=18:\n",
    "    print('you are eligible to vote')\n",
    "elif age<18:\n",
    "     print('you are not eligible to vote')\n"
   ]
  },
  {
   "cell_type": "markdown",
   "id": "c08309b0-f08a-4499-b705-adac6f6b7b65",
   "metadata": {},
   "source": [
    "# Write a program that prompts the user to input two integers and outputs the largest."
   ]
  },
  {
   "cell_type": "code",
   "execution_count": 16,
   "id": "d442a2c8-a3aa-49d7-813c-477416116541",
   "metadata": {},
   "outputs": [
    {
     "name": "stdin",
     "output_type": "stream",
     "text": [
      "enter a number 866868768676\n",
      "enter second number 8666876787755\n"
     ]
    },
    {
     "name": "stdout",
     "output_type": "stream",
     "text": [
      "the largest number is 8666876787755\n"
     ]
    }
   ],
   "source": [
    "inte=int(input('enter a number'))\n",
    "inte2=int(input('enter second number'))\n",
    "if inte>inte2:\n",
    "    print(f'the largest number is {inte}')\n",
    "elif inte2>inte:\n",
    "    print(f'the largest number is {inte2}')"
   ]
  },
  {
   "cell_type": "markdown",
   "id": "2db0de69-39a0-4c5e-9683-cf570ab02492",
   "metadata": {},
   "source": [
    "# 4. Write a program that prompts the user to enter a number and determines whether it\n",
    "# is positive, negative, or zero. The program should print \"Positive\" if the number is\n",
    "# greater than 0, \"Negative\" if the number is less than 0, and \"Zero\" if the number is 0."
   ]
  },
  {
   "cell_type": "code",
   "execution_count": 23,
   "id": "456cefef-6f24-4b78-9db1-c960f33149f9",
   "metadata": {},
   "outputs": [
    {
     "name": "stdin",
     "output_type": "stream",
     "text": [
      "enter the number i tell you is positive , negative  or zero 0\n"
     ]
    },
    {
     "name": "stdout",
     "output_type": "stream",
     "text": [
      "the number is 0\n"
     ]
    }
   ],
   "source": [
    "n = int(input('enter the number i tell you is positive , negative  or zero'))\n",
    "if n>0:\n",
    "    print('the number is positive')\n",
    "elif n<0:\n",
    "    print('the number is negative')\n",
    "elif n==0:\n",
    "     print('the number is 0')"
   ]
  },
  {
   "cell_type": "markdown",
   "id": "05be09e2-bc7f-4566-ba0f-dc78d0c3d311",
   "metadata": {},
   "source": [
    "# 5. Write a program that prompts the user to enter their age and prints the\n",
    "# corresponding age group. The program should use the following age groups:\n",
    "# 0-12: Child\n",
    "# 13-19: Teenager\n",
    "# 20-59: Adult\n",
    "# 60 and above: Senior Citizen"
   ]
  },
  {
   "cell_type": "code",
   "execution_count": 44,
   "id": "5f31e9ba-9947-4c46-940c-2644005edfdd",
   "metadata": {},
   "outputs": [
    {
     "name": "stdin",
     "output_type": "stream",
     "text": [
      "enter the age 55\n"
     ]
    },
    {
     "name": "stdout",
     "output_type": "stream",
     "text": [
      "you are adult\n"
     ]
    }
   ],
   "source": [
    "age = int(input('enter the age'))\n",
    "if age>=0 and age<=12:\n",
    "    print('you are bacha sharjeel')\n",
    "elif age>=13 and age<=19:\n",
    "    print('you are teenager')\n",
    "elif age>=20 and age<=59:\n",
    "    print('you are adult')\n",
    "elif age>=60:\n",
    "    print('you are senior citizen ')"
   ]
  },
  {
   "cell_type": "markdown",
   "id": "ba790b31-396c-446e-9f09-34a5f726676c",
   "metadata": {},
   "source": [
    "# Write a program that prompts the user to input a number from 1 to 7. The program\n",
    "# should display the corresponding day for the given number. For example, if the user\n",
    "# types 1, the output should be Sunday. If the user types 7, the output should be\n",
    "# Saturday. If the number is not between 1 to 7 user should get error message as shown\n",
    "# in sample output."
   ]
  },
  {
   "cell_type": "code",
   "execution_count": 51,
   "id": "22694d02-0d6f-44fe-818c-25ec39580765",
   "metadata": {},
   "outputs": [
    {
     "name": "stdin",
     "output_type": "stream",
     "text": [
      "Enter the number: 9\n"
     ]
    },
    {
     "name": "stdout",
     "output_type": "stream",
     "text": [
      "this 9 is not valid\n"
     ]
    }
   ],
   "source": [
    "num = int(input(\"Enter the number:\"))\n",
    "if num == 1:\n",
    "    print('sunday')\n",
    "elif num == 2 :\n",
    "    print('monday')\n",
    "elif num  == 3:\n",
    "    print('tuesdday')\n",
    "elif num  == 4:\n",
    "    print('wednwsday')\n",
    "elif num  == 5:\n",
    "    print('thusday')\n",
    "elif num  == 6:\n",
    "    print('friday')\n",
    "elif num  == 7:\n",
    "    print('saturday')\n",
    "else:\n",
    "    print(f'this {num} is not valid')\n",
    "\n"
   ]
  },
  {
   "cell_type": "markdown",
   "id": "d19152f4-d413-4b1b-ba1f-1426f6fc6dad",
   "metadata": {},
   "source": [
    "# Write a program that prompts the user to enter their weight (in kilograms) and height\n",
    "# (in meters). The program should calculate the Body Mass Index (BMI) using the formula:\n",
    "# BMI = weight / (height * height). The program should then classify the BMI into one of\n",
    "# the following categories:"
   ]
  },
  {
   "cell_type": "code",
   "execution_count": 56,
   "id": "17635c88-f243-4236-86c9-7e098f11e759",
   "metadata": {},
   "outputs": [
    {
     "name": "stdin",
     "output_type": "stream",
     "text": [
      "Enter your weight 60\n",
      "Enter your height 5.8\n"
     ]
    },
    {
     "name": "stdout",
     "output_type": "stream",
     "text": [
      "Your BMI is: 17835.91\n"
     ]
    }
   ],
   "source": [
    "weight = int(input(\"Enter your weight\"))\n",
    "height = float(input(\"Enter your height\"))\n",
    "\n",
    "height_in_meters = height / 100\n",
    "BMI = weight / (height_in_meters ** 2)\n",
    "print(f\"Your BMI is: {BMI:.2f}\")\n"
   ]
  },
  {
   "cell_type": "markdown",
   "id": "657d9fb9-1748-492d-9f42-85bba1da2ac1",
   "metadata": {},
   "source": [
    "# 8. The marks obtained by a student in 3 different subjects are input by the user. Your\n",
    "# program should calculate the average of subjects and display the grade. The student\n",
    "# gets a grade as per the following rules:\n",
    "# Average Grade\n",
    "# 90-100 A\n",
    "# 80-89 B\n",
    "# 70-79 C"
   ]
  },
  {
   "cell_type": "code",
   "execution_count": 102,
   "id": "8d5aae03-c55d-4046-80fc-5c506d4d63bb",
   "metadata": {},
   "outputs": [
    {
     "name": "stdin",
     "output_type": "stream",
     "text": [
      "Enter the first subject M  70\n",
      "Enter the second subject M 10\n",
      "Enter the third subject M 10\n"
     ]
    },
    {
     "name": "stdout",
     "output_type": "stream",
     "text": [
      "your grade is A1 90\n"
     ]
    }
   ],
   "source": [
    "islamiat = int(input(\"Enter the first subject M \"))\n",
    "math = int(input(\"Enter the second subject M\"))\n",
    "english = int(input(\"Enter the third subject M\"))\n",
    "all_element = islamiat+math+english\n",
    "if all_element>=90:\n",
    "    print(f'your grade is A1 {all_element}')\n",
    "elif all_element>=80:\n",
    "    print(f'your grade is A {all_element}')\n",
    "elif all_element>=70:\n",
    "    print(f'your grade is B{all_element}')\n",
    "else:\n",
    "    print(f'this {all_element} is not valid number:')"
   ]
  },
  {
   "cell_type": "code",
   "execution_count": 104,
   "id": "5b0c8be8-21f3-4529-98e2-41a10a3115a1",
   "metadata": {},
   "outputs": [
    {
     "ename": "SyntaxError",
     "evalue": "invalid character '≠' (U+2260) (1748211665.py, line 3)",
     "output_type": "error",
     "traceback": [
      "\u001b[1;36m  Cell \u001b[1;32mIn[104], line 3\u001b[1;36m\u001b[0m\n\u001b[1;33m    + bx + c = 0, a ≠ 0 are given by the following\u001b[0m\n\u001b[1;37m                    ^\u001b[0m\n\u001b[1;31mSyntaxError\u001b[0m\u001b[1;31m:\u001b[0m invalid character '≠' (U+2260)\n"
     ]
    }
   ],
   "source": [
    "9. The roots of the quadratic equation ax2\n",
    "\n",
    "+ bx + c = 0, a ≠ 0 are given by the following\n",
    "\n",
    "formula:\n",
    "\n",
    "In this formula, the term b2\n",
    "\n",
    "- 4ac is called the discriminant. If b2\n",
    "\n",
    "- 4ac = 0, then the\n",
    "\n",
    "equation has two equal roots.\n",
    "If b2\n",
    "- 4ac > 0, the equation has two real roots. If b2\n",
    "\n",
    "- 4ac < 0, the equation has two\n",
    "\n",
    "complex roots."
   ]
  },
  {
   "cell_type": "markdown",
   "id": "a4bbb379-c44a-4c25-b555-2652ea623c6d",
   "metadata": {},
   "source": [
    "# Write a program that prompts the user to enter three numbers and sorts them in\n",
    "# ascending order. The program should print the sorted numbers."
   ]
  },
  {
   "cell_type": "code",
   "execution_count": 109,
   "id": "deaa71b0-fe19-4ed8-aafe-c635ae726f9c",
   "metadata": {},
   "outputs": [
    {
     "name": "stdin",
     "output_type": "stream",
     "text": [
      "Enter the number1 2\n",
      "Enter the number2 9\n",
      "Enter the number3 4\n"
     ]
    },
    {
     "name": "stdout",
     "output_type": "stream",
     "text": [
      "sorte_num[2, 4, 9]\n"
     ]
    }
   ],
   "source": [
    "num1 = int(input(\"Enter the number1\"))\n",
    "num2 = int(input(\"Enter the number2\"))\n",
    "num3 = int(input(\"Enter the number3\"))\n",
    "\n",
    "sort_num = [num1,num2,num3]\n",
    "\n",
    "sort_num.sort()\n",
    "print(f'sorte_num{sort_num}')"
   ]
  },
  {
   "cell_type": "markdown",
   "id": "afc70121-5a79-4b78-899c-74aa914a8077",
   "metadata": {
    "jp-MarkdownHeadingCollapsed": true
   },
   "source": [
    "# 11. Write a program that prompts the user to input three integers and outputs the\n",
    "# largest."
   ]
  },
  {
   "cell_type": "code",
   "execution_count": 112,
   "id": "86d35efe-902e-47ff-b15f-bd112c7e0daa",
   "metadata": {},
   "outputs": [
    {
     "name": "stdin",
     "output_type": "stream",
     "text": [
      "enter a number 2\n",
      "enter second number 6\n"
     ]
    },
    {
     "name": "stdout",
     "output_type": "stream",
     "text": [
      "the largest number is 6\n"
     ]
    }
   ],
   "source": [
    "inte=int(input('enter a number'))\n",
    "inte2=int(input('enter second number'))\n",
    "if inte>inte2:\n",
    "    print(f'the largest number is {inte}')\n",
    "elif inte2>inte:\n",
    "    print(f'the largest number is {inte2}')"
   ]
  },
  {
   "cell_type": "markdown",
   "id": "6182c8ee-2165-4982-908e-2e8a1200cfb1",
   "metadata": {},
   "source": [
    "# 12. Write a program that prompts the user to input a character and determine the\n",
    "# character is vowel or consonant."
   ]
  },
  {
   "cell_type": "code",
   "execution_count": 117,
   "id": "954a774a-cbda-4580-8f90-c3b84b895858",
   "metadata": {},
   "outputs": [
    {
     "name": "stdin",
     "output_type": "stream",
     "text": [
      "enter the character numbers:  i\n"
     ]
    },
    {
     "name": "stdout",
     "output_type": "stream",
     "text": [
      "i is a (vowel) \n"
     ]
    }
   ],
   "source": [
    "character = input(\"enter the character numbers: \").lower()\n",
    "\n",
    "vowels = ['a', 'e', 'i', 'o', 'u']\n",
    "if character in vowels:\n",
    "    print(f\"{character} is a (vowel) \")\n",
    "else:\n",
    "    print(f\"{character} is a (consonant) ۔\")\n"
   ]
  },
  {
   "cell_type": "markdown",
   "id": "19ff54cb-f547-448f-a299-9459fdc1473c",
   "metadata": {},
   "source": [
    "# 13. Write a program that prompts the user to input a year and determine whether the\n",
    "# year is a leap year or not.\n",
    "# Leap Years are any year that can be evenly divided by 4. A year that is evenly divisible by\n",
    "# 100 is a leap year only if it is also evenly divisible by 400. Example:\n",
    "# 1992 Leap Year\n",
    "# 2000 Leap Year\n",
    "# 1900 NOT a Leap Year\n",
    "# 1995 NOT a Leap Year"
   ]
  },
  {
   "cell_type": "code",
   "execution_count": 20,
   "id": "314cb6ca-5fd8-49c9-8f68-01417f73c7ed",
   "metadata": {},
   "outputs": [
    {
     "name": "stdin",
     "output_type": "stream",
     "text": [
      "enter the year 1900\n"
     ]
    },
    {
     "name": "stdout",
     "output_type": "stream",
     "text": [
      "1900 this is not a leap yaer\n"
     ]
    }
   ],
   "source": [
    "year = int(input('enter the year'))\n",
    "if (year%4==0 and year%100!=0) or (year%400==0):\n",
    "    print(f'{year} is a leap year')\n",
    "else:\n",
    "    print(f'{year} this is not a leap yaer')\n"
   ]
  },
  {
   "cell_type": "markdown",
   "id": "59c0e09a-08a3-45de-8c03-8a7cd965a9a1",
   "metadata": {},
   "source": [
    "# Write a program that prompts the user to input number of calls and calculate the\n",
    "# monthly telephone bills as per the following rule:\n",
    "# Minimum Rs. 200 for up to 100 calls.\n",
    "# Plus Rs. 0.60 per call for next 50 calls.\n",
    "# Plus Rs. 0.50 per call for next 50 calls.\n",
    "# Plus Rs. 0.40 per call for any call beyond 200 calls."
   ]
  },
  {
   "cell_type": "code",
   "execution_count": 35,
   "id": "965d2ac5-a4b4-43aa-b30a-02a0eee65805",
   "metadata": {},
   "outputs": [
    {
     "name": "stdin",
     "output_type": "stream",
     "text": [
      "Enter the number of calls made this month:  30\n"
     ]
    },
    {
     "name": "stdout",
     "output_type": "stream",
     "text": [
      "The total telephone bill for 30 calls is: Rs. 200.00\n"
     ]
    }
   ],
   "source": [
    "# Get the number of calls from the user\n",
    "num_calls = int(input(\"Enter the number of calls made this month: \"))\n",
    "\n",
    "# Initialize the base bill\n",
    "bill = 200  # Minimum Rs. 200 for up to 100 calls\n",
    "\n",
    "# If calls are between 101 and 150\n",
    "if num_calls > 100:\n",
    "    # Calculate the extra calls beyond 100 and apply Rs. 0.60 per call for up to 50 calls\n",
    "    extra_calls_1 = min(num_calls - 100, 50)\n",
    "    bill += extra_calls_1 * 0.60\n",
    "\n",
    "# If calls are between 151 and 200\n",
    "if num_calls > 150:\n",
    "    # Calculate the extra calls beyond 150 and apply Rs. 0.50 per call for up to 50 calls\n",
    "    extra_calls_2 = min(num_calls - 150, 50)\n",
    "    bill += extra_calls_2 * 0.50\n",
    "\n",
    "# If calls are above 200\n",
    "if num_calls > 200:\n",
    "    # Calculate the extra calls beyond 200 and apply Rs. 0.40 per call\n",
    "    extra_calls_3 = num_calls - 200\n",
    "    bill += extra_calls_3 * 0.40\n",
    "\n",
    "# Display the final bill amount\n",
    "print(f\"The total telephone bill for {num_calls} calls is: Rs. {bill:.2f}\")\n"
   ]
  },
  {
   "cell_type": "code",
   "execution_count": 50,
   "id": "6ffac484-01b6-4e61-80b2-03920045fc27",
   "metadata": {},
   "outputs": [
    {
     "name": "stdin",
     "output_type": "stream",
     "text": [
      "Enter the number of calls made:  10\n"
     ]
    },
    {
     "name": "stdout",
     "output_type": "stream",
     "text": [
      "The total bill for 10 calls is Rs. 200.00\n"
     ]
    }
   ],
   "source": [
    "# Prompt the user to input the number of calls\n",
    "calls = int(input(\"Enter the number of calls made: \"))\n",
    "\n",
    "# Initialize the bill amount\n",
    "bill = 0\n",
    "\n",
    "# Calculate the bill based on the number of calls\n",
    "if calls <= 100:\n",
    "    bill = 200  # Minimum charge for up to 100 calls\n",
    "elif calls <= 150:\n",
    "    bill = 200 + (calls - 100) * 0.60  # Rs. 0.60 per call for the next 50 calls\n",
    "elif calls <= 200:\n",
    "    bill = 200 + 50 * 0.60 + (calls - 150) * 0.50  # Rs. 0.50 per call for the next 50 calls\n",
    "else:\n",
    "    bill = 200 + 50 * 0.60 + 50 * 0.50 + (calls - 200) * 0.40  # Rs. 0.40 per call for calls beyond 200\n",
    "\n",
    "# Display the total bill\n",
    "print(f\"The total bill for {calls} calls is Rs. {bill:.2f}\")\n"
   ]
  },
  {
   "cell_type": "markdown",
   "id": "3c9092b7-987d-4ef8-a55c-cffbfe4878d0",
   "metadata": {},
   "source": [
    "# Assingnment2b\n",
    "# Write a program that accepts a list from user and print the alternate element of list."
   ]
  },
  {
   "cell_type": "code",
   "execution_count": 61,
   "id": "0e21991b-d623-4ef3-b796-926bc4c34251",
   "metadata": {},
   "outputs": [
    {
     "name": "stdin",
     "output_type": "stream",
     "text": [
      "Enter the elements of the list separated by spaces:  banana apple orange mango\n"
     ]
    },
    {
     "name": "stdout",
     "output_type": "stream",
     "text": [
      "The alternate elements are: ['banana', 'orange']\n"
     ]
    }
   ],
   "source": [
    "# Accepting a list of elements from the user\n",
    "user_input = input(\"Enter the elements of the list separated by spaces: \")\n",
    "\n",
    "# Converting the input string into a list of strings\n",
    "user_list = user_input.split()\n",
    "\n",
    "# Printing the alternate elements from the list\n",
    "alternate_elements = user_list[::2]  # This will get every second element starting from index 0\n",
    "\n",
    "# Display the alternate elements\n",
    "print(\"The alternate elements are:\", alternate_elements)\n"
   ]
  },
  {
   "cell_type": "markdown",
   "id": "8b50e02c-89ae-49d7-9710-b39a5d141ab7",
   "metadata": {},
   "source": [
    "# 2. Write a program that accepts a list from user. Your program should reverse the content of list and\n",
    "# display it. Do not use reverse() method."
   ]
  },
  {
   "cell_type": "code",
   "execution_count": 64,
   "id": "7a826f67-e74a-42e9-bd33-b3b596c2839c",
   "metadata": {},
   "outputs": [
    {
     "name": "stdin",
     "output_type": "stream",
     "text": [
      "Enter the elements of the list separated by spaces:  banana apple mango nakko\n"
     ]
    },
    {
     "name": "stdout",
     "output_type": "stream",
     "text": [
      "The reversed list is: ['nakko', 'mango', 'apple', 'banana']\n"
     ]
    }
   ],
   "source": [
    "# Accepting a list of elements from the user\n",
    "user_input = input(\"Enter the elements of the list separated by spaces: \")\n",
    "\n",
    "# Converting the input string into a list of strings\n",
    "user_list = user_input.split()\n",
    "\n",
    "# Reversing the list using slicing\n",
    "reversed_list = user_list[::-1]\n",
    "\n",
    "# Display the reversed list\n",
    "print(\"The reversed list is:\", reversed_list)\n"
   ]
  },
  {
   "cell_type": "markdown",
   "id": "656dd18f-d37f-4352-a565-951a8c02cbf7",
   "metadata": {},
   "source": [
    "# Find and display the largest number of a list without using built-in function max(). Your program\n",
    "# should ask the user to input values in list from keyboard."
   ]
  },
  {
   "cell_type": "code",
   "execution_count": 71,
   "id": "63764bc6-3570-4071-8f9d-d704e5c9a9f1",
   "metadata": {},
   "outputs": [
    {
     "name": "stdin",
     "output_type": "stream",
     "text": [
      "Enter numbers separated by spaces:  77 768 786 785 797\n"
     ]
    },
    {
     "name": "stdout",
     "output_type": "stream",
     "text": [
      "The largest number in the list is: 797\n"
     ]
    }
   ],
   "source": [
    "# Accepting input from the user\n",
    "user_input = input(\"Enter numbers separated by spaces: \")\n",
    "\n",
    "# Converting the input string into a list of integers\n",
    "user_list = [int(x) for x in user_input.split()]\n",
    "\n",
    "# Initializing the largest number as the first element of the list\n",
    "largest_number = user_list[0]\n",
    "\n",
    "# Iterating through the list to find the largest number\n",
    "for num in user_list:\n",
    "    if num > largest_number:\n",
    "        largest_number = num\n",
    "\n",
    "# Displaying the largest number\n",
    "print(\"The largest number in the list is:\", largest_number)\n"
   ]
  },
  {
   "cell_type": "markdown",
   "id": "e9e721c6-0f7f-4f66-a094-edaabc9bcba5",
   "metadata": {},
   "source": [
    "# 4. Write a program that rotates the element of a list so that the element at the first index moves to the\n",
    "# second index, the element in the second index moves to the third index, etc., and the element in the last\n",
    "# index moves to the first index."
   ]
  },
  {
   "cell_type": "code",
   "execution_count": 74,
   "id": "ca9af0fe-29f8-4632-9daf-c19e09be6c79",
   "metadata": {},
   "outputs": [
    {
     "name": "stdin",
     "output_type": "stream",
     "text": [
      "Enter the elements of the list separated by spaces:  banana potato jan khan man element\n"
     ]
    },
    {
     "name": "stdout",
     "output_type": "stream",
     "text": [
      "The rotated list is: ['element', 'banana', 'potato', 'jan', 'khan', 'man']\n"
     ]
    }
   ],
   "source": [
    "# Accepting input from the user\n",
    "user_input = input(\"Enter the elements of the list separated by spaces: \")\n",
    "\n",
    "# Converting the input string into a list of elements\n",
    "user_list = user_input.split()\n",
    "\n",
    "# Check if the list has more than 1 element to rotate\n",
    "if len(user_list) > 1:\n",
    "    # Rotate the list by moving the last element to the first position\n",
    "    rotated_list = [user_list[-1]] + user_list[:-1]\n",
    "else:\n",
    "    # If there is only one element or an empty list, no rotation needed\n",
    "    rotated_list = user_list\n",
    "\n",
    "# Displaying the rotated list\n",
    "print(\"The rotated list is:\", rotated_list)\n"
   ]
  },
  {
   "cell_type": "markdown",
   "id": "386c636b-3505-4e57-862f-2045685ff47f",
   "metadata": {},
   "source": [
    "# 5. Write a program that input a string and ask user to delete a given word from a string."
   ]
  },
  {
   "cell_type": "code",
   "execution_count": 88,
   "id": "a1169454-14fa-4489-9f02-2b1e73ae359a",
   "metadata": {},
   "outputs": [
    {
     "name": "stdin",
     "output_type": "stream",
     "text": [
      "delete the word from list h\n"
     ]
    }
   ],
   "source": [
    "st = ['banana','kalo','potato','apple','mango']\n",
    "dl = input('delete the word from list')\n",
    "if dl == st:\n",
    "     \n",
    "    "
   ]
  },
  {
   "cell_type": "code",
   "execution_count": 90,
   "id": "2fb8ef22-8469-444f-9ed9-4735ed5b55cc",
   "metadata": {},
   "outputs": [
    {
     "name": "stdin",
     "output_type": "stream",
     "text": [
      "Enter a string:  sharjeel shazaib rafiz hamza\n",
      "Enter the word to delete:  shazaib\n"
     ]
    },
    {
     "name": "stdout",
     "output_type": "stream",
     "text": [
      "The string after deleting the word is: sharjeel  rafiz hamza\n"
     ]
    }
   ],
   "source": [
    "# Accepting input string from the user\n",
    "input_string = input(\"Enter a string: \")\n",
    "\n",
    "# Accepting the word to delete from the string\n",
    "word_to_delete = input(\"Enter the word to delete: \")\n",
    "\n",
    "# Removing the word from the string\n",
    "# We use `replace()` method to replace the word with an empty string\n",
    "modified_string = input_string.replace(word_to_delete, \"\")\n",
    "\n",
    "# Display the modified string\n",
    "print(\"The string after deleting the word is:\", modified_string)\n"
   ]
  },
  {
   "cell_type": "markdown",
   "id": "f07ebe72-f8fd-417d-9754-8b926ef29492",
   "metadata": {},
   "source": [
    "# 6. Write a program that reads a string from the user containing a date in the form mm/dd/yyyy. It\n",
    "# should print the date in the form March 12, 2021."
   ]
  },
  {
   "cell_type": "code",
   "execution_count": 93,
   "id": "78fded2e-2f4b-41ba-8f06-43909de5833f",
   "metadata": {},
   "outputs": [
    {
     "name": "stdin",
     "output_type": "stream",
     "text": [
      "Enter the date in mm/dd/yyyy format:  12/20/2005\n"
     ]
    },
    {
     "name": "stdout",
     "output_type": "stream",
     "text": [
      "December 20, 2005\n"
     ]
    }
   ],
   "source": [
    "# Dictionary to map month numbers to month names\n",
    "months = {\n",
    "    \"01\": \"January\", \"02\": \"February\", \"03\": \"March\", \"04\": \"April\",\n",
    "    \"05\": \"May\", \"06\": \"June\", \"07\": \"July\", \"08\": \"August\",\n",
    "    \"09\": \"September\", \"10\": \"October\", \"11\": \"November\", \"12\": \"December\"\n",
    "}\n",
    "\n",
    "# Read the date input from the user in mm/dd/yyyy format\n",
    "date_input = input(\"Enter the date in mm/dd/yyyy format: \")\n",
    "\n",
    "# Split the input string to extract month, day, and year\n",
    "month, day, year = date_input.split(\"/\")\n",
    "\n",
    "# Get the month name from the dictionary\n",
    "month_name = months.get(month, \"Invalid month\")\n",
    "\n",
    "# Print the date in the desired format\n",
    "print(f\"{month_name} {int(day)}, {year}\")\n"
   ]
  },
  {
   "cell_type": "markdown",
   "id": "9c394d4d-f71f-4fd2-bc09-977383429712",
   "metadata": {},
   "source": [
    "# Write a program with a function that accepts a string from keyboard and create a new string after\n",
    "# converting character of each word capitalized. For instance, if the sentence is \"stop and smell the roses.\"\n",
    "# the output should be \"Stop And Smell The Roses\""
   ]
  },
  {
   "cell_type": "code",
   "execution_count": 104,
   "id": "8bd2ae28-ac79-4d2d-bceb-6bbd0c32316d",
   "metadata": {},
   "outputs": [
    {
     "name": "stdin",
     "output_type": "stream",
     "text": [
      "enter the string form heddings the small string\n"
     ]
    },
    {
     "name": "stdout",
     "output_type": "stream",
     "text": [
      "The Small String\n"
     ]
    }
   ],
   "source": [
    "st = input('enter the string form heddings')\n",
    "print(st.title())"
   ]
  },
  {
   "cell_type": "markdown",
   "id": "b5b3683c-93cb-4a7a-8ff5-4ab383f2265f",
   "metadata": {},
   "source": [
    "# 8. Find the sum of each row of matrix of size m x n. For example for the following matrix output will be\n",
    "# like this :\n",
    "# 2 11 7 12\n",
    "# 4 10 8 24\n",
    "# 76 98 5 45\n",
    "# 21 81 31 41\n",
    "# Sum of row 1 = 32\n",
    "# Sum of row 2 = 31\n",
    "# Sum of row 3 = 63"
   ]
  },
  {
   "cell_type": "code",
   "execution_count": 107,
   "id": "97e838c0-ba42-46f0-9cc4-9a9dae23c33f",
   "metadata": {},
   "outputs": [
    {
     "name": "stdin",
     "output_type": "stream",
     "text": [
      "Enter the number of rows (m):  3\n",
      "Enter the number of columns (n):  3\n"
     ]
    },
    {
     "name": "stdout",
     "output_type": "stream",
     "text": [
      "Enter the elements row by row:\n"
     ]
    },
    {
     "name": "stdin",
     "output_type": "stream",
     "text": [
      "Enter row 1 (space-separated):  10 11 13 \n",
      "Enter row 2 (space-separated):  90 78 50\n",
      "Enter row 3 (space-separated):  30 12 65\n"
     ]
    },
    {
     "name": "stdout",
     "output_type": "stream",
     "text": [
      "Sum of row 1 = 34\n",
      "Sum of row 2 = 218\n",
      "Sum of row 3 = 107\n"
     ]
    }
   ],
   "source": [
    "# Function to calculate sum of each row in a matrix\n",
    "def sum_of_rows(matrix):\n",
    "    # Iterate over each row in the matrix\n",
    "    for i, row in enumerate(matrix):\n",
    "        # Calculate the sum of the row\n",
    "        row_sum = sum(row)\n",
    "        # Print the sum of the row\n",
    "        print(f\"Sum of row {i+1} = {row_sum}\")\n",
    "\n",
    "# Read the size of the matrix\n",
    "m = int(input(\"Enter the number of rows (m): \"))\n",
    "n = int(input(\"Enter the number of columns (n): \"))\n",
    "\n",
    "# Initialize the matrix\n",
    "matrix = []\n",
    "\n",
    "# Read the elements of the matrix\n",
    "print(\"Enter the elements row by row:\")\n",
    "for i in range(m):\n",
    "    row = list(map(int, input(f\"Enter row {i+1} (space-separated): \").split()))\n",
    "    matrix.append(row)\n",
    "\n",
    "# Call the function to calculate sum of each row\n",
    "sum_of_rows(matrix)\n"
   ]
  },
  {
   "cell_type": "markdown",
   "id": "165c7e02-71cf-49e9-b7b9-f77ac5607f09",
   "metadata": {},
   "source": [
    "# 9. Write a program to add two matrices of size n x m."
   ]
  },
  {
   "cell_type": "code",
   "execution_count": 4,
   "id": "6a43f4b8-e8f8-4e31-ac65-5183ef245b5e",
   "metadata": {},
   "outputs": [
    {
     "name": "stdin",
     "output_type": "stream",
     "text": [
      "Enter number of rows and columns (n m):  2 3\n",
      "Enter row 1 of first matrix:  2 3 4\n",
      "Enter row 2 of first matrix:  5 6 7\n",
      "Enter row 1 of second matrix:  9 0 8\n",
      "Enter row 2 of second matrix:  0 3 1\n"
     ]
    },
    {
     "name": "stdout",
     "output_type": "stream",
     "text": [
      "The sum of the matrices is:\n",
      "[[11, 3, 12], [5, 9, 8]]\n"
     ]
    }
   ],
   "source": [
    "# Input dimensions of matrices\n",
    "n, m = map(int, input(\"Enter number of rows and columns (n m): \").split())\n",
    "\n",
    "# Input two matrices\n",
    "matrix1 = [list(map(int, input(f\"Enter row {i+1} of first matrix: \").split())) for i in range(n)]\n",
    "matrix2 = [list(map(int, input(f\"Enter row {i+1} of second matrix: \").split())) for i in range(n)]\n",
    "\n",
    "# Add matrices without explicit loops using list comprehension\n",
    "result = [[matrix1[i][j] + matrix2[i][j] for j in range(m)] for i in range(n)]\n",
    "\n",
    "# Output the result\n",
    "print(\"The sum of the matrices is:\")\n",
    "print(result)\n"
   ]
  },
  {
   "cell_type": "markdown",
   "id": "6c87ddec-9e32-43cb-b562-0e5a9123599e",
   "metadata": {},
   "source": [
    "# 10. Write a program to multiply two matrices"
   ]
  },
  {
   "cell_type": "code",
   "execution_count": 9,
   "id": "322a1379-4aa8-406b-91a7-905c74ee3384",
   "metadata": {},
   "outputs": [
    {
     "name": "stdin",
     "output_type": "stream",
     "text": [
      "Enter number of rows and columns (n m):  2 3\n",
      "Enter row 0 of first matrix:  1 2 3\n",
      "Enter row 1 of first matrix:  4 5 6\n",
      "Enter row 0 of second matrix:  6 7 8\n",
      "Enter row 1 of second matrix:  8 9 0\n"
     ]
    },
    {
     "name": "stdout",
     "output_type": "stream",
     "text": [
      "The multiply of the matrices is:\n",
      "[[6, 14, 24], [32, 45, 0]]\n"
     ]
    }
   ],
   "source": [
    "n, m = map(int, input(\"Enter number of rows and columns (n m): \").split())\n",
    "\n",
    "# Input two matrices\n",
    "matrix1 = [list(map(int, input(f\"Enter row {i*1} of first matrix: \").split())) for i in range(n)]\n",
    "matrix2 = [list(map(int, input(f\"Enter row {i*1} of second matrix: \").split())) for i in range(n)]\n",
    "\n",
    "# Add matrices without explicit loops using list comprehension\n",
    "result = [[matrix1[i][j] * matrix2[i][j] for j in range(m)] for i in range(n)]\n",
    "\n",
    "# Output the result\n",
    "print(\"The multiply of the matrices is:\")\n",
    "print(result)\n"
   ]
  },
  {
   "cell_type": "markdown",
   "id": "f8dede6a-56b9-47a7-a25a-f82087ade310",
   "metadata": {},
   "source": [
    "# Loops Assignment4c\n",
    "# 1. Write a Python program to print the numbers from 1 to 10 using a for loop."
   ]
  },
  {
   "cell_type": "code",
   "execution_count": 12,
   "id": "f16e1f43-7cbc-4370-b7eb-15068597e239",
   "metadata": {},
   "outputs": [
    {
     "name": "stdout",
     "output_type": "stream",
     "text": [
      "1\n",
      "2\n",
      "3\n",
      "4\n",
      "5\n",
      "6\n",
      "7\n",
      "8\n",
      "9\n",
      "10\n"
     ]
    }
   ],
   "source": [
    "for a in range(1,11):\n",
    "    print(a)"
   ]
  },
  {
   "cell_type": "markdown",
   "id": "c7da1cd8-6b44-44e2-9716-2e86a8c88ca5",
   "metadata": {},
   "source": [
    "# 2. Write a Python program to print the numbers from 20 to 1 using a while loop."
   ]
  },
  {
   "cell_type": "code",
   "execution_count": 17,
   "id": "b4b3879d-a91f-4f76-9a06-f8da5f0827d3",
   "metadata": {},
   "outputs": [
    {
     "name": "stdout",
     "output_type": "stream",
     "text": [
      "20\n",
      "19\n",
      "18\n",
      "17\n",
      "16\n",
      "15\n",
      "14\n",
      "13\n",
      "12\n",
      "11\n",
      "10\n",
      "9\n",
      "8\n",
      "7\n",
      "6\n",
      "5\n",
      "4\n",
      "3\n",
      "2\n",
      "1\n"
     ]
    }
   ],
   "source": [
    "n = 20\n",
    "while n>0:\n",
    "    print(n)\n",
    "    n-=1"
   ]
  },
  {
   "cell_type": "markdown",
   "id": "d5109eb1-b8c2-4fab-9442-1015b2931ad1",
   "metadata": {},
   "source": [
    "# 3. Write a program to print even numbers from 1 to 10."
   ]
  },
  {
   "cell_type": "code",
   "execution_count": 20,
   "id": "4f191a4a-9639-49e1-82bf-0dba5d90b9c0",
   "metadata": {},
   "outputs": [
    {
     "name": "stdout",
     "output_type": "stream",
     "text": [
      "2\n",
      "4\n",
      "6\n",
      "8\n"
     ]
    }
   ],
   "source": [
    "for e in range(1,10):\n",
    "    if e%2==0:\n",
    "        print(e)"
   ]
  },
  {
   "cell_type": "markdown",
   "id": "712d3ee7-9c59-4d05-be8b-bdd96f6c3ac6",
   "metadata": {},
   "source": [
    "# 4. Write a program that prompts the user to enter a number n and prints all the\n",
    "# numbers from 1 to n."
   ]
  },
  {
   "cell_type": "code",
   "execution_count": 27,
   "id": "a0cdf1b0-615a-415b-84df-b7ee537d7758",
   "metadata": {},
   "outputs": [
    {
     "name": "stdin",
     "output_type": "stream",
     "text": [
      "énter the number 15\n"
     ]
    },
    {
     "name": "stdout",
     "output_type": "stream",
     "text": [
      "1\n",
      "2\n",
      "3\n",
      "4\n",
      "5\n",
      "6\n",
      "7\n",
      "8\n",
      "9\n",
      "10\n",
      "11\n",
      "12\n",
      "13\n",
      "14\n",
      "15\n"
     ]
    }
   ],
   "source": [
    "n = int(input('énter the number'))\n",
    "for n in range(1,n+1):\n",
    "    print(n)"
   ]
  },
  {
   "cell_type": "markdown",
   "id": "25251fa4-3de3-4ed6-a734-f29593530325",
   "metadata": {},
   "source": [
    "# Write a program that prompts the user to enter a number n, and then prints all the\n",
    "# odd numbers between 1 and n."
   ]
  },
  {
   "cell_type": "code",
   "execution_count": 32,
   "id": "c72f1e29-fa39-4436-a84c-72c444f0d9a1",
   "metadata": {},
   "outputs": [
    {
     "name": "stdin",
     "output_type": "stream",
     "text": [
      "Enter the number 10\n"
     ]
    },
    {
     "name": "stdout",
     "output_type": "stream",
     "text": [
      "1\n",
      "3\n",
      "5\n",
      "7\n",
      "9\n"
     ]
    }
   ],
   "source": [
    "n = int(input('Enter the number'))\n",
    "for n in range(1,n+1):\n",
    "    if n%2!=0:\n",
    "        print(n)"
   ]
  },
  {
   "cell_type": "markdown",
   "id": "328b94f5-8483-4fc9-87e9-3384097db68b",
   "metadata": {},
   "source": [
    "# 6. Write a program that prints 'Happy Birthday!' five times on screen."
   ]
  },
  {
   "cell_type": "code",
   "execution_count": 39,
   "id": "74222bc4-53cb-4227-acdc-77218214724f",
   "metadata": {},
   "outputs": [
    {
     "name": "stdout",
     "output_type": "stream",
     "text": [
      "Happy Bithday!\n",
      "Happy Bithday!\n",
      "Happy Bithday!\n",
      "Happy Bithday!\n",
      "Happy Bithday!\n"
     ]
    }
   ],
   "source": [
    "n = 'Happy Bithday!'\n",
    "for i in range(1,6):\n",
    "    print(f\"{n}\")"
   ]
  },
  {
   "cell_type": "markdown",
   "id": "54d9f520-d5c6-47b8-a018-35d5e9b8436d",
   "metadata": {},
   "source": [
    "# 7. Write a program that takes a number n as input from the user and generates the first\n",
    "n terms of the series formed by squaring the natural numbers."
   ]
  },
  {
   "cell_type": "code",
   "execution_count": 48,
   "id": "d6fdcf53-ed09-474a-9c10-8ea8f136422d",
   "metadata": {},
   "outputs": [
    {
     "name": "stdin",
     "output_type": "stream",
     "text": [
      "Enter the number 5\n"
     ]
    },
    {
     "name": "stdout",
     "output_type": "stream",
     "text": [
      "1\n",
      "4\n",
      "9\n",
      "16\n",
      "25\n"
     ]
    }
   ],
   "source": [
    "n = int(input('Enter the number'))\n",
    "for i in range(1,n+1):\n",
    "    print(i**2)"
   ]
  },
  {
   "cell_type": "markdown",
   "id": "4c4f6af7-45a7-403a-9a5f-eb757bb139a3",
   "metadata": {},
   "source": [
    "# 8. Write a program that prompts the user to input a number and prints its multiplication\n",
    "# table."
   ]
  },
  {
   "cell_type": "code",
   "execution_count": 53,
   "id": "7f264c5d-74b0-4d65-9aad-11132ce618af",
   "metadata": {},
   "outputs": [
    {
     "name": "stdin",
     "output_type": "stream",
     "text": [
      "Enter the number 7\n"
     ]
    },
    {
     "name": "stdout",
     "output_type": "stream",
     "text": [
      "7 X 1 = 7\n",
      "7 X 2 = 14\n",
      "7 X 3 = 21\n",
      "7 X 4 = 28\n",
      "7 X 5 = 35\n",
      "7 X 6 = 42\n",
      "7 X 7 = 49\n",
      "7 X 8 = 56\n",
      "7 X 9 = 63\n",
      "7 X 10 = 70\n"
     ]
    }
   ],
   "source": [
    "n = int(input('Enter the number'))\n",
    "for i in range(1,11):\n",
    "    print(f\"{n} X {i} = {n*i}\")"
   ]
  },
  {
   "cell_type": "markdown",
   "id": "31d6ec1d-e696-4d26-a7d7-d63123477da8",
   "metadata": {},
   "source": [
    "# 9. Write a Python program to print the first 8 terms of an arithmetic progression starting\n",
    "# with 3 and having a common difference of 4.\n",
    "# The program should output the following sequence:\n",
    "# 3 7 11 15 19 23 27 31"
   ]
  },
  {
   "cell_type": "code",
   "execution_count": 56,
   "id": "9b643a24-b611-43ed-b81f-b0289133dbc9",
   "metadata": {},
   "outputs": [
    {
     "name": "stdout",
     "output_type": "stream",
     "text": [
      "3 7 11 15 19 23 27 31 "
     ]
    }
   ],
   "source": [
    "first_term = 3\n",
    "common_difference = 4\n",
    "num_terms = 8\n",
    "\n",
    "# Generate and print the terms of the AP\n",
    "for i in range(num_terms):\n",
    "    term = first_term + i * common_difference\n",
    "    print(term, end=\" \")\n"
   ]
  },
  {
   "cell_type": "markdown",
   "id": "a712b718-b15a-4f3a-bef1-76e53b326a3a",
   "metadata": {},
   "source": [
    "# 10. Write a Python program to print the first 6 terms of a geometric sequence starting\n",
    "# with 2 and having a common ratio of 3.\n",
    "# The program should output the following sequence:\n",
    "# 2 6 18 54 162 486"
   ]
  },
  {
   "cell_type": "code",
   "execution_count": 74,
   "id": "7a374f53-6f60-49d4-9a38-c2c7a28e2ca8",
   "metadata": {},
   "outputs": [
    {
     "name": "stdout",
     "output_type": "stream",
     "text": [
      "2 6 18 54 162 486 "
     ]
    }
   ],
   "source": [
    "first_term = 2\n",
    "common_ratio = 3\n",
    "num_terms = 6\n",
    "\n",
    "\n",
    "for i in range(num_terms):\n",
    "    term = first_term *  (common_ratio**i)\n",
    "    print(term, end=\" \")"
   ]
  },
  {
   "cell_type": "markdown",
   "id": "fe2b588b-8e64-44b5-8d3a-3ca111672cd1",
   "metadata": {},
   "source": [
    "# Write a program that asks the user for a positive integer value. The program should\n",
    "# calculate the sum of all the integers from 1 up to the number entered. For example, if\n",
    "# the user enters 20, the loop will find the sum of 1, 2, 3, 4, ... 20."
   ]
  },
  {
   "cell_type": "code",
   "execution_count": 93,
   "id": "4bdea7f5-172c-40cd-a815-79aea58b4f40",
   "metadata": {},
   "outputs": [
    {
     "name": "stdin",
     "output_type": "stream",
     "text": [
      "Enter a positive integer:  20\n"
     ]
    },
    {
     "name": "stdout",
     "output_type": "stream",
     "text": [
      "The sum of all integers from 1 to 20 is: 210\n"
     ]
    }
   ],
   "source": [
    "# Ask the user for a positive integer\n",
    "num = int(input(\"Enter a positive integer: \"))\n",
    "\n",
    "# Initialize sum to 0\n",
    "total_sum = 0\n",
    "\n",
    "# Loop through all integers from 1 to the entered number and add them to the sum\n",
    "for i in range(1, num+1 ):\n",
    "    total_sum += i\n",
    "\n",
    "# Output the sum\n",
    "print(f\"The sum of all integers from 1 to {num} is: {total_sum}\")\n",
    "\n",
    "    "
   ]
  },
  {
   "cell_type": "markdown",
   "id": "9701f7f1-b8ed-4bb5-94c8-aadd389cab26",
   "metadata": {},
   "source": [
    "# 12. write a program that takes a positive integer N as input and calculates the sum of\n",
    "# the reciprocals of all numbers from 1 up to N. The program should display the final sum.\n",
    "\n",
    "# Output of the program should be like:\n",
    "# Enter a positive integer: 5\n",
    "# The sum of reciprocals from 1 to 5 is: 2.28"
   ]
  },
  {
   "cell_type": "code",
   "execution_count": 98,
   "id": "69be8fb1-fc73-44fb-ab13-145c97b04d8a",
   "metadata": {},
   "outputs": [
    {
     "name": "stdin",
     "output_type": "stream",
     "text": [
      "Enter a positive integer:  4\n"
     ]
    },
    {
     "name": "stdout",
     "output_type": "stream",
     "text": [
      "The sum of reciprocals from 1 to 4 is: 2.08\n"
     ]
    }
   ],
   "source": [
    "# Ask the user to input a positive integer\n",
    "N = int(input(\"Enter a positive integer: \"))\n",
    "\n",
    "# Initialize sum to 0\n",
    "sum_of_reciprocals = 0\n",
    "\n",
    "# Calculate the sum of reciprocals\n",
    "for i in range(1, N + 1):\n",
    "    sum_of_reciprocals += 1 / i\n",
    "\n",
    "# Display the final sum\n",
    "print(f\"The sum of reciprocals from 1 to {N} is: {sum_of_reciprocals:.2f}\")\n"
   ]
  },
  {
   "cell_type": "markdown",
   "id": "abc94ae9-128a-4225-a84b-44b2b29ae9ae",
   "metadata": {},
   "source": [
    "# 13. Write a program that prompts the user to enter a number and repeats this process 5\n",
    "# times. The program should accumulate the numbers entered and then display the final\n",
    "# running total.\n",
    "Sample Output:\n",
    "Enter a number: 10\n",
    "Enter a number: 15\n",
    "Enter a number: 35\n",
    "Enter a number: 40\n",
    "Enter a number: 50\n",
    "The final running total is: 150"
   ]
  },
  {
   "cell_type": "code",
   "execution_count": 117,
   "id": "030e0595-aea8-437b-b7ee-5f029b283fe4",
   "metadata": {},
   "outputs": [
    {
     "name": "stdin",
     "output_type": "stream",
     "text": [
      "enter the number 10\n"
     ]
    },
    {
     "name": "stdout",
     "output_type": "stream",
     "text": [
      "10\n"
     ]
    },
    {
     "name": "stdin",
     "output_type": "stream",
     "text": [
      "enter the number 1\n"
     ]
    },
    {
     "name": "stdout",
     "output_type": "stream",
     "text": [
      "1\n"
     ]
    },
    {
     "name": "stdin",
     "output_type": "stream",
     "text": [
      "enter the number 10\n"
     ]
    },
    {
     "name": "stdout",
     "output_type": "stream",
     "text": [
      "10\n"
     ]
    },
    {
     "name": "stdin",
     "output_type": "stream",
     "text": [
      "enter the number 10\n"
     ]
    },
    {
     "name": "stdout",
     "output_type": "stream",
     "text": [
      "10\n"
     ]
    },
    {
     "name": "stdin",
     "output_type": "stream",
     "text": [
      "enter the number 10\n"
     ]
    },
    {
     "name": "stdout",
     "output_type": "stream",
     "text": [
      "10\n"
     ]
    }
   ],
   "source": [
    "for i in range(1,6):\n",
    "    num = int(input('enter the number'))\n",
    "    print(num)"
   ]
  },
  {
   "cell_type": "code",
   "execution_count": 119,
   "id": "c4402b25-da04-4aac-a679-4ab71c325b94",
   "metadata": {},
   "outputs": [
    {
     "name": "stdin",
     "output_type": "stream",
     "text": [
      "Enter a number:  10\n",
      "Enter a number:  10\n",
      "Enter a number:  10\n",
      "Enter a number:  10\n",
      "Enter a number:  10\n"
     ]
    },
    {
     "name": "stdout",
     "output_type": "stream",
     "text": [
      "The final running total is: 50\n"
     ]
    }
   ],
   "source": [
    "total_sum = 0\n",
    "for i in range(5):\n",
    "    number = int(input(\"Enter a number: \"))\n",
    "    total_sum += number\n",
    "print(f\"The final running total is: {total_sum}\")\n"
   ]
  },
  {
   "cell_type": "markdown",
   "id": "da3b0978-6f43-4e94-a351-77f5709fa7a9",
   "metadata": {},
   "source": [
    "# Write a program that prompts the user to enter a positive integer and calculates its\n",
    "# factorial. The factorial of a positive integer 'n' is denoted as 'n!' and is calculated by\n",
    "# multiplying all the integers from 1 to 'n' together. For example, the factorial of 5\n",
    "# (denoted as 5!) is calculated as 1 x 2 x 3 x 4 x 5.\n",
    "# The program should display the factorial value if the input is a positive number, or\n",
    "# display a message stating that the factorial does not exist for negative numbers.\n",
    "# Additionally, for an input of zero, the program should output that the factorial of 0 is 1."
   ]
  },
  {
   "cell_type": "code",
   "execution_count": 136,
   "id": "8b190dce-e1ee-4733-a7ef-5496e439c778",
   "metadata": {},
   "outputs": [
    {
     "name": "stdin",
     "output_type": "stream",
     "text": [
      "Enter a number:  10\n",
      "Enter a number:  10\n",
      "Enter a number:  10\n",
      "Enter a number:  10\n",
      "Enter a number:  10\n"
     ]
    },
    {
     "name": "stdout",
     "output_type": "stream",
     "text": [
      "The final running total is: 100000\n"
     ]
    }
   ],
   "source": [
    "total_sum = 1\n",
    "for i in range(5):\n",
    "    number = int(input(\"Enter a number: \"))\n",
    "    total_sum *= number\n",
    "print(f\"The final running total is: {total_sum}\")"
   ]
  },
  {
   "cell_type": "markdown",
   "id": "aee08b12-4f36-4b0e-b0d2-5f466d53715c",
   "metadata": {},
   "source": [
    "# 15. Write a Python program that prompts the user to enter a base number and an\n",
    "# exponent, and then calculates the power of the base to the exponent. The program\n",
    "# should not use the exponentiation operator (**) or the math.pow() function. The\n",
    "# program should handle both positive and negative exponents."
   ]
  },
  {
   "cell_type": "code",
   "execution_count": 139,
   "id": "3762da0f-22f1-4ca9-9031-4aaeb666847b",
   "metadata": {},
   "outputs": [
    {
     "name": "stdin",
     "output_type": "stream",
     "text": [
      "Enter the base number:  2\n",
      "Enter the exponent:  2\n"
     ]
    },
    {
     "name": "stdout",
     "output_type": "stream",
     "text": [
      "2.0 raised to the power of 2 is: 4.0\n"
     ]
    }
   ],
   "source": [
    "# Function to calculate power\n",
    "def calculate_power(base, exponent):\n",
    "    # Handling positive exponents\n",
    "    result = 1\n",
    "    if exponent > 0:\n",
    "        for _ in range(exponent):\n",
    "            result *= base\n",
    "    # Handling negative exponents\n",
    "    elif exponent < 0:\n",
    "        for _ in range(abs(exponent)):\n",
    "            result *= base\n",
    "        result = 1 / result\n",
    "    # If exponent is 0, the result is always 1\n",
    "    else:\n",
    "        result = 1\n",
    "\n",
    "    return result\n",
    "\n",
    "# Ask the user for a base number and an exponent\n",
    "base = float(input(\"Enter the base number: \"))\n",
    "exponent = int(input(\"Enter the exponent: \"))\n",
    "\n",
    "# Calculate and display the result\n",
    "result = calculate_power(base, exponent)\n",
    "print(f\"{base} raised to the power of {exponent} is: {result}\")\n"
   ]
  },
  {
   "cell_type": "markdown",
   "id": "8f8af23e-a18a-4f83-a53e-719fb51352a3",
   "metadata": {},
   "source": [
    "# assigment 4d String"
   ]
  },
  {
   "cell_type": "markdown",
   "id": "004dbfeb-3b1c-490b-976c-606483298582",
   "metadata": {},
   "source": [
    "# Write a program that accepts a string from user. Your program should count and display number of\n",
    "# vowels in that string."
   ]
  },
  {
   "cell_type": "code",
   "execution_count": 40,
   "id": "657b90ef-7ede-46ad-8cc7-151a91374f4f",
   "metadata": {},
   "outputs": [
    {
     "name": "stdin",
     "output_type": "stream",
     "text": [
      "enter the string  pakistan\n"
     ]
    },
    {
     "name": "stdout",
     "output_type": "stream",
     "text": [
      "3\n",
      "['a', 'i', 'a']\n"
     ]
    }
   ],
   "source": [
    "string = input(\"enter the string \")\n",
    "vowels = ['a', 'e', 'i', 'o', 'u']\n",
    "count = 0\n",
    "vowels_list = []\n",
    "for vowel in string:\n",
    "    if vowel in vowels:\n",
    "        count+=1\n",
    "        vowels_list.append(vowel)\n",
    "\n",
    "print(count)\n",
    "print(vowels_list)"
   ]
  },
  {
   "cell_type": "markdown",
   "id": "0f4e94a6-82be-4a45-bd22-8842d5668088",
   "metadata": {},
   "source": [
    "# 2. Write a program that reads a string from keyboard and display:\n",
    "# * The number of uppercase letters in the string\n",
    "# * The number of lowercase letters in the string\n",
    "# * The number of digits in the string\n",
    "# * The number of whitespace characters in the string"
   ]
  },
  {
   "cell_type": "code",
   "execution_count": 91,
   "id": "bc25900c-478c-4516-a47f-5a333155fa44",
   "metadata": {},
   "outputs": [
    {
     "name": "stdin",
     "output_type": "stream",
     "text": [
      "enter the string and i count the how many uppercase letter and lower case letter thar 456  HFDA\n"
     ]
    },
    {
     "name": "stdout",
     "output_type": "stream",
     "text": [
      "the number of uppercase is 4\n",
      "the uppercase letter is H, F, D, A\n",
      "the number of lowercase is 4\n",
      "the lowercase letter is t, h, a, r\n",
      "the number of digit is 3\n",
      "the digit number is 4, 5, 6\n",
      "the number of space is 3\n",
      "the space number is  ,  ,  \n"
     ]
    }
   ],
   "source": [
    "upper = input('enter the string and i count the how many uppercase letter and lower case letter')\n",
    "countu = 0\n",
    "countl = 0\n",
    "countd = 0\n",
    "counts = 0\n",
    "count_upper = []\n",
    "count_lower = []\n",
    "count_digit = []\n",
    "count_space = []\n",
    "for u in upper:\n",
    "    if u.isupper():\n",
    "        countu+=1\n",
    "        count_upper.append(u)\n",
    "\n",
    "\n",
    "\n",
    "    elif u.islower():\n",
    "        countl+=1\n",
    "        count_lower.append(u)\n",
    "\n",
    "\n",
    "\n",
    "\n",
    "    elif u.isdigit():\n",
    "        countd+=1\n",
    "        count_digit.append(u)\n",
    "\n",
    "    elif u.isspace():\n",
    "        counts+=1\n",
    "        count_space.append(u)\n",
    "\n",
    "print(f'the number of uppercase is {countu}')\n",
    "print(f'the uppercase letter is {', '.join(count_upper)}')\n",
    "\n",
    "print(f'the number of lowercase is {countl}')\n",
    "print(f'the lowercase letter is {', '.join(count_lower)}')\n",
    "\n",
    "print(f'the number of digit is {countd}')\n",
    "print(f'the digit number is {', '.join(count_digit)}')\n",
    "\n",
    "print(f'the number of space is {counts}')\n",
    "print(f'the space number is {', '.join(count_space)}')"
   ]
  },
  {
   "cell_type": "markdown",
   "id": "89122374-5f99-4dd9-a920-3740d15d50de",
   "metadata": {},
   "source": [
    "# 3. Write a Python program that accepts a string from user. Your program should create and display a\n",
    "# new string where the first and last characters have been exchanged."
   ]
  },
  {
   "cell_type": "code",
   "execution_count": 94,
   "id": "4ce9f916-5aab-4fe1-a3ab-f9ac0ebd14f2",
   "metadata": {},
   "outputs": [
    {
     "name": "stdin",
     "output_type": "stream",
     "text": [
      "Enter the string hello\n"
     ]
    },
    {
     "name": "stdout",
     "output_type": "stream",
     "text": [
      "oellh\n"
     ]
    }
   ],
   "source": [
    "string = input('Enter the string')\n",
    "string1 = string[-1]+string[1:-1]+string[0]\n",
    "print(string1)"
   ]
  },
  {
   "cell_type": "markdown",
   "id": "9704d6c3-3bf9-4f24-9e48-44363c8ab0bf",
   "metadata": {},
   "source": [
    "# 4. Write a Python program that accepts a string from user. Your program should create a new string in\n",
    "# reverse of first string and display it.\n",
    "# For example if the user enters the string 'EXAM' then new string would be 'MAXE'"
   ]
  },
  {
   "cell_type": "code",
   "execution_count": 105,
   "id": "276c9e8a-9004-43af-be6d-47311d08ce08",
   "metadata": {},
   "outputs": [
    {
     "name": "stdin",
     "output_type": "stream",
     "text": [
      "Enter the string:  hamza\n"
     ]
    },
    {
     "name": "stdout",
     "output_type": "stream",
     "text": [
      "azmah\n"
     ]
    }
   ],
   "source": [
    "strings = input('Enter the string: ')\n",
    "reversed_string = strings[::-1] \n",
    "print(reversed_string)\n",
    "\n"
   ]
  },
  {
   "cell_type": "markdown",
   "id": "2ca0de6d-12b0-49b1-afe7-6cb65e1c6387",
   "metadata": {},
   "source": [
    "# 5. Write a Python program that accepts a string from user. Your program should create a new string by\n",
    "# shifting one position to left.\n",
    "# For example if the user enters the string 'examination 2021' then new string would be 'xamination\n",
    "# 2021e'"
   ]
  },
  {
   "cell_type": "code",
   "execution_count": 2,
   "id": "ec6d0ed9-4201-47c9-8e40-afecf6103f87",
   "metadata": {},
   "outputs": [
    {
     "name": "stdin",
     "output_type": "stream",
     "text": [
      "enter the string examination 2021\n"
     ]
    },
    {
     "name": "stdout",
     "output_type": "stream",
     "text": [
      "xamination 202e\n"
     ]
    }
   ],
   "source": [
    "shift = input('enter the string')\n",
    "shift1 = shift[1:-1]+shift[0]\n",
    "print(shift1)"
   ]
  },
  {
   "cell_type": "markdown",
   "id": "8b40f740-8dc7-421a-94af-db15e7cbd43e",
   "metadata": {},
   "source": [
    "# Write a program that asks the user to input his name and print its initials. Assuming that the user\n",
    "# always types first name, middle name and last name and does not include any unnecessary spaces.\n",
    "# For example, if the user enters Ajay Kumar Garg the program should display A. K. G.\n",
    "# Note:Don't use split() method"
   ]
  },
  {
   "cell_type": "code",
   "execution_count": 7,
   "id": "231ef200-31c6-4da2-8ed7-c4fe26e7a44f",
   "metadata": {},
   "outputs": [
    {
     "name": "stdin",
     "output_type": "stream",
     "text": [
      "enter the first name ajay\n",
      "enter the middle name kumar\n",
      "enter the last name garg\n"
     ]
    },
    {
     "name": "stdout",
     "output_type": "stream",
     "text": [
      "akg\n"
     ]
    }
   ],
   "source": [
    "f_name = input('enter the first name')\n",
    "m_name = input('enter the middle name')\n",
    "l_name = input('enter the last name')\n",
    "full_name = f_name[0]+m_name[0]+l_name[0]\n",
    "print(full_name)"
   ]
  },
  {
   "cell_type": "markdown",
   "id": "5ab637d6-193e-4e3f-8b7c-cad75badae91",
   "metadata": {},
   "source": [
    "# 7. A palindrome is a string that reads the same backward as forward. For example, the words dad,\n",
    "# madam and radar are all palindromes. Write a programs that determines whether the string is a\n",
    "# palindrome.\n",
    "# Note: do not use reverse() method"
   ]
  },
  {
   "cell_type": "code",
   "execution_count": 104,
   "id": "988658f4-b6c4-4591-af64-8add5038b5db",
   "metadata": {},
   "outputs": [
    {
     "name": "stdin",
     "output_type": "stream",
     "text": [
      "Enter the string and I will check if it is a palindrome or not:  jajja\n"
     ]
    },
    {
     "name": "stdout",
     "output_type": "stream",
     "text": [
      "Not palindrome\n"
     ]
    }
   ],
   "source": [
    "palindrome = input('Enter the string and I will check if it is a palindrome or not: ')\n",
    "if palindrome == palindrome[::-1]:\n",
    "    print('Palindrome')\n",
    "else:\n",
    "    print('Not palindrome')\n"
   ]
  },
  {
   "cell_type": "markdown",
   "id": "92f240c1-4f6f-4a0e-a52b-847ca0470749",
   "metadata": {},
   "source": [
    "# 8. Write a program that display following output:\n",
    "# SHIFT\n",
    "# HIFTS\n",
    "# IFTSH\n",
    "# FTSHI\n",
    "# TSHIF\n",
    "# SHIFT"
   ]
  },
  {
   "cell_type": "code",
   "execution_count": 29,
   "id": "0e6844fc-61de-44e1-94a7-3d1d1bc586ca",
   "metadata": {},
   "outputs": [
    {
     "name": "stdout",
     "output_type": "stream",
     "text": [
      "hifts\n"
     ]
    }
   ],
   "source": [
    "shift = 'shift'\n",
    "shift1 = shift[1:100]+shift[0]\n",
    "print(shift1)"
   ]
  },
  {
   "cell_type": "code",
   "execution_count": 53,
   "id": "856e0d62-185a-4d56-b8e5-f0c6ad3cc22e",
   "metadata": {},
   "outputs": [
    {
     "name": "stdout",
     "output_type": "stream",
     "text": [
      "ifshi\n"
     ]
    }
   ],
   "source": [
    "shift = 'shift'\n",
    "shift2 = shift[-3:-1]+shift[0:3]\n",
    "print(shift2)"
   ]
  },
  {
   "cell_type": "code",
   "execution_count": 77,
   "id": "73e04ea9-02f6-4c35-9966-e74584db85c7",
   "metadata": {},
   "outputs": [
    {
     "name": "stdout",
     "output_type": "stream",
     "text": [
      "tfihstisshi\n"
     ]
    }
   ],
   "source": [
    "shift = 'shift'\n",
    "shift3 = shift[::-1]+shift[::-2]+shift[0:3]\n",
    "print(shift3)"
   ]
  },
  {
   "cell_type": "code",
   "execution_count": 83,
   "id": "a4aee1c1-d612-4a00-888c-85969612e46c",
   "metadata": {},
   "outputs": [
    {
     "name": "stdout",
     "output_type": "stream",
     "text": [
      "tshif\n"
     ]
    }
   ],
   "source": [
    "shift = 'shift'\n",
    "shift4 = shift[-1]+shift[0:-1]\n",
    "print(shift4)"
   ]
  },
  {
   "cell_type": "markdown",
   "id": "7f126d3d-650f-4168-af59-102bdfef5e2e",
   "metadata": {},
   "source": [
    "# Write a program in python that accepts a string to setup a passwords. Your entered password must\n",
    "# meet the following requirements:\n",
    "\n",
    "# The password must be at least eight characters long.\n",
    "# It must contain at least one uppercase letter.\n",
    "# It must contain at least one lowercase letter.\n",
    "# It must contain at least one numeric digit.\n",
    "# Your program should should perform this validation."
   ]
  },
  {
   "cell_type": "code",
   "execution_count": 100,
   "id": "8db2d81e-f62f-4a3f-ad14-5487527e08e3",
   "metadata": {},
   "outputs": [
    {
     "name": "stdin",
     "output_type": "stream",
     "text": [
      "Enter the password (one upper, one lower, one numeric, and at least 8 characters):  hamza1234\n"
     ]
    },
    {
     "name": "stdout",
     "output_type": "stream",
     "text": [
      "The password is wrong\n"
     ]
    }
   ],
   "source": [
    "password = input('Enter the password (one upper, one lower, one numeric, and at least 8 characters): ')\n",
    "if (any(c.isupper() for c in password) and \n",
    "    any(c.islower() for c in password) and \n",
    "    any(c.isdigit() for c in password) and \n",
    "    len(password) >= 8):\n",
    "    print('The password is valid')\n",
    "else:\n",
    "    print('The password is wrong')\n"
   ]
  },
  {
   "cell_type": "code",
   "execution_count": null,
   "id": "411b5158-9678-4f4f-b39b-b29b5fd7e44f",
   "metadata": {},
   "outputs": [],
   "source": []
  }
 ],
 "metadata": {
  "kernelspec": {
   "display_name": "Python 3 (ipykernel)",
   "language": "python",
   "name": "python3"
  },
  "language_info": {
   "codemirror_mode": {
    "name": "ipython",
    "version": 3
   },
   "file_extension": ".py",
   "mimetype": "text/x-python",
   "name": "python",
   "nbconvert_exporter": "python",
   "pygments_lexer": "ipython3",
   "version": "3.12.7"
  }
 },
 "nbformat": 4,
 "nbformat_minor": 5
}
